{
  "nbformat": 4,
  "nbformat_minor": 0,
  "metadata": {
    "colab": {
      "provenance": [],
      "authorship_tag": "ABX9TyNtRPt9qr6S/y2uExmdS06E",
      "include_colab_link": true
    },
    "kernelspec": {
      "name": "python3",
      "display_name": "Python 3"
    },
    "language_info": {
      "name": "python"
    }
  },
  "cells": [
    {
      "cell_type": "markdown",
      "metadata": {
        "id": "view-in-github",
        "colab_type": "text"
      },
      "source": [
        "<a href=\"https://colab.research.google.com/github/CodeCrafter-101/Image-Resize-to-50/blob/main/Image_Resize_to_50.ipynb\" target=\"_parent\"><img src=\"https://colab.research.google.com/assets/colab-badge.svg\" alt=\"Open In Colab\"/></a>"
      ]
    },
    {
      "cell_type": "code",
      "execution_count": 1,
      "metadata": {
        "colab": {
          "base_uri": "https://localhost:8080/"
        },
        "id": "xNnXrq3hFCcb",
        "outputId": "9ade196c-a82a-4446-e5a8-205ca481c9ca"
      },
      "outputs": [
        {
          "output_type": "stream",
          "name": "stdout",
          "text": [
            "Requirement already satisfied: opencv-python in /usr/local/lib/python3.11/dist-packages (4.11.0.86)\n",
            "Requirement already satisfied: numpy>=1.21.2 in /usr/local/lib/python3.11/dist-packages (from opencv-python) (2.0.2)\n"
          ]
        }
      ],
      "source": [
        "! pip install opencv-python"
      ]
    },
    {
      "cell_type": "code",
      "source": [
        "import kagglehub\n",
        "import os\n",
        "# Download latest version\n",
        "path = kagglehub.dataset_download(\"prasunroy/natural-images\")\n",
        "\n",
        "print(\"Path to dataset files:\", path)"
      ],
      "metadata": {
        "colab": {
          "base_uri": "https://localhost:8080/"
        },
        "id": "8OVtFcxQFG0A",
        "outputId": "322da6a1-46ab-4745-ed24-652de7763da3"
      },
      "execution_count": 2,
      "outputs": [
        {
          "output_type": "stream",
          "name": "stdout",
          "text": [
            "Path to dataset files: /kaggle/input/natural-images\n"
          ]
        }
      ]
    },
    {
      "cell_type": "code",
      "source": [
        "import shutil\n",
        "output='images'\n",
        "os.makedirs(output,exist_ok=True)\n",
        "img_exts=('.jpg','.png','jpeg')\n",
        "img_cnt=0\n",
        "for root,dirs,files in os.walk(path):\n",
        "  for file in files:\n",
        "    if file.lower().endswith(img_exts):\n",
        "      src_path=os.path.join(root,file)\n",
        "      dst_path=os.path.join(output,f\"{img_cnt:03d}_{file}\")\n",
        "      shutil.copy(src_path,dst_path)\n",
        "      img_cnt+=1\n",
        "      if img_cnt==100:\n",
        "        break\n",
        "  if img_cnt==100:\n",
        "        break"
      ],
      "metadata": {
        "id": "4RF9pS-fFMHn"
      },
      "execution_count": 3,
      "outputs": []
    },
    {
      "cell_type": "code",
      "source": [
        "import os\n",
        "import cv2\n",
        "\n",
        "input_dir = '/content/images'\n",
        "resize = '/content/resize_images'\n",
        "os.makedirs(resize, exist_ok=True)\n",
        "\n",
        "for filename in os.listdir(input_dir):\n",
        "    file_path = os.path.join(input_dir, filename)\n",
        "\n",
        "    if filename.lower().endswith(('.png', '.jpg', '.jpeg')):\n",
        "        img = cv2.imread(file_path)\n",
        "        half = cv2.resize(img, (0, 0), fx = 0.1, fy = 0.1) #50% smaller\n",
        "\n",
        "        save_path = os.path.join(resize, filename)\n",
        "        cv2.imwrite(save_path, half)\n",
        "\n",
        "print(f\"Saved resized images to {resize}\")"
      ],
      "metadata": {
        "colab": {
          "base_uri": "https://localhost:8080/"
        },
        "id": "vEQVwTrlFX9Q",
        "outputId": "ec351d60-17f2-48e2-eb9a-b209b0c5d210"
      },
      "execution_count": 4,
      "outputs": [
        {
          "output_type": "stream",
          "name": "stdout",
          "text": [
            "Saved resized images to /content/resize_images\n"
          ]
        }
      ]
    }
  ]
}